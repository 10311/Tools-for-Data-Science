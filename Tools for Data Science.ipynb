{
 "cells": [
  {
   "cell_type": "markdown",
   "id": "5940844e",
   "metadata": {},
   "source": [
    "# My Jupyter Notebook on IBM Watson Studio"
   ]
  },
  {
   "cell_type": "markdown",
   "id": "b15526b6",
   "metadata": {},
   "source": [
    "**Yihan Liu** \n"
   ]
  },
  {
   "cell_type": "markdown",
   "id": "58b9706d",
   "metadata": {},
   "source": [
    "Data Scientist"
   ]
  },
  {
   "cell_type": "markdown",
   "id": "eb301cf5",
   "metadata": {},
   "source": [
    "*I am interested in data science it will give me guidance on the direction and help me better choose the direction of further education and employment.*"
   ]
  },
  {
   "cell_type": "markdown",
   "id": "6d5869dd",
   "metadata": {},
   "source": [
    "### I am caculating 1/1 in the below code"
   ]
  },
  {
   "cell_type": "code",
   "execution_count": 11,
   "id": "3f53be81",
   "metadata": {},
   "outputs": [
    {
     "name": "stdout",
     "output_type": "stream",
     "text": [
      "1.0\n"
     ]
    }
   ],
   "source": [
    "print(1/1)"
   ]
  },
  {
   "cell_type": "markdown",
   "id": "0c494b40",
   "metadata": {},
   "source": [
    "### hyperlinks+ strikethrough+underline"
   ]
  },
  {
   "cell_type": "markdown",
   "id": "f6ffeaab",
   "metadata": {},
   "source": [
    "<u>~'http://www.google.com'~</u>\n"
   ]
  }
 ],
 "metadata": {
  "kernelspec": {
   "display_name": "Python 3 (ipykernel)",
   "language": "python",
   "name": "python3"
  },
  "language_info": {
   "codemirror_mode": {
    "name": "ipython",
    "version": 3
   },
   "file_extension": ".py",
   "mimetype": "text/x-python",
   "name": "python",
   "nbconvert_exporter": "python",
   "pygments_lexer": "ipython3",
   "version": "3.9.1"
  }
 },
 "nbformat": 4,
 "nbformat_minor": 5
}
